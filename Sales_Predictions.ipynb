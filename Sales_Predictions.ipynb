{
  "nbformat": 4,
  "nbformat_minor": 0,
  "metadata": {
    "colab": {
      "provenance": [],
      "authorship_tag": "ABX9TyOAvEt/nTQVrY6gBx6XMagz",
      "include_colab_link": true
    },
    "kernelspec": {
      "name": "python3",
      "display_name": "Python 3"
    },
    "language_info": {
      "name": "python"
    }
  },
  "cells": [
    {
      "cell_type": "markdown",
      "metadata": {
        "id": "view-in-github",
        "colab_type": "text"
      },
      "source": [
        "<a href=\"https://colab.research.google.com/github/MayBornWitIt/sales-predictions/blob/main/Sales_Predictions.ipynb\" target=\"_parent\"><img src=\"https://colab.research.google.com/assets/colab-badge.svg\" alt=\"Open In Colab\"/></a>"
      ]
    },
    {
      "cell_type": "markdown",
      "source": [
        "# Project 1 - Part 1\n",
        "- Maybelline Monge\n",
        "\n",
        "\n",
        "\n",
        "> Indented block\n",
        "\n",
        "## Loading Data\n",
        "\n",
        "\n",
        "> Indented block\n",
        "\n",
        "\n",
        "## Data Cleaning\n",
        "\n",
        "\n",
        "> Indented block\n",
        "\n",
        "\n",
        "## Exploratory Visuals\n",
        "\n",
        "\n",
        "> Indented block\n",
        "\n",
        "\n",
        "## Explanatory Visuals\n",
        "\n",
        "\n",
        "> Indented block\n",
        "\n"
      ],
      "metadata": {
        "id": "iQU1BiFNX7qb"
      }
    },
    {
      "cell_type": "markdown",
      "source": [],
      "metadata": {
        "id": "f-AYjTfyZlAj"
      }
    },
    {
      "cell_type": "markdown",
      "source": [
        "> \n",
        ">\n",
        ">\n"
      ],
      "metadata": {
        "id": "BFxyq1FeZPbD"
      }
    }
  ]
}