{
  "nbformat": 4,
  "nbformat_minor": 0,
  "metadata": {
    "colab": {
      "provenance": [],
      "collapsed_sections": [
        "_KoPvaDlwvdR",
        "xkJ2m6LZw4MC",
        "HyCrHAx1Jj0L"
      ],
      "include_colab_link": true
    },
    "kernelspec": {
      "name": "python3",
      "display_name": "Python 3"
    },
    "language_info": {
      "name": "python"
    }
  },
  "cells": [
    {
      "cell_type": "markdown",
      "metadata": {
        "id": "view-in-github",
        "colab_type": "text"
      },
      "source": [
        "<a href=\"https://colab.research.google.com/github/MayBornWitIt/sales-predictions/blob/main/C_Drive_Sales_Predictions.ipynb\" target=\"_parent\"><img src=\"https://colab.research.google.com/assets/colab-badge.svg\" alt=\"Open In Colab\"/></a>"
      ]
    },
    {
      "cell_type": "markdown",
      "source": [
        "## **Grocery Sales Predictions**\n",
        "- Maybelline Monge\n",
        "\n",
        "![groceries.jpg](data:image/jpeg;base64,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)\n"
      ],
      "metadata": {
        "id": "iQU1BiFNX7qb"
      }
    },
    {
      "cell_type": "markdown",
      "source": [
        "## Loading Data"
      ],
      "metadata": {
        "id": "_KoPvaDlwvdR"
      }
    },
    {
      "cell_type": "code",
      "source": [
        "# Mount drive to load data\n",
        "from google.colab import drive\n",
        "drive.mount('/content/drive')"
      ],
      "metadata": {
        "id": "SVjmooOCeLtd",
        "outputId": "70acb89c-9d0d-4066-cedb-d500548d68f1",
        "colab": {
          "base_uri": "https://localhost:8080/"
        }
      },
      "execution_count": 27,
      "outputs": [
        {
          "output_type": "stream",
          "name": "stdout",
          "text": [
            "Drive already mounted at /content/drive; to attempt to forcibly remount, call drive.mount(\"/content/drive\", force_remount=True).\n"
          ]
        }
      ]
    },
    {
      "cell_type": "code",
      "source": [
        "# Import functions\n",
        "import pandas as pd\n",
        "import numpy as np\n",
        "import matplotlib.pyplot as plt\n",
        "import seaborn as sns"
      ],
      "metadata": {
        "id": "MHOd6KZGegzH"
      },
      "execution_count": 28,
      "outputs": []
    },
    {
      "cell_type": "code",
      "source": [
        "# Load the Data\n",
        "# load csv from url, display info, and preview rows \n",
        "df = pd.read_csv('/content/drive/MyDrive/sales_predictions.csv')\n",
        "df.head()"
      ],
      "metadata": {
        "id": "T3BhbPYvelBo",
        "outputId": "2832dde9-9232-47f8-b6c1-a546422ceff5",
        "colab": {
          "base_uri": "https://localhost:8080/",
          "height": 206
        }
      },
      "execution_count": 29,
      "outputs": [
        {
          "output_type": "execute_result",
          "data": {
            "text/plain": [
              "  Item_Identifier  Item_Weight Item_Fat_Content  Item_Visibility  \\\n",
              "0           FDA15         9.30          Low Fat         0.016047   \n",
              "1           DRC01         5.92          Regular         0.019278   \n",
              "2           FDN15        17.50          Low Fat         0.016760   \n",
              "3           FDX07        19.20          Regular         0.000000   \n",
              "4           NCD19         8.93          Low Fat         0.000000   \n",
              "\n",
              "               Item_Type  Item_MRP Outlet_Identifier  \\\n",
              "0                  Dairy  249.8092            OUT049   \n",
              "1            Soft Drinks   48.2692            OUT018   \n",
              "2                   Meat  141.6180            OUT049   \n",
              "3  Fruits and Vegetables  182.0950            OUT010   \n",
              "4              Household   53.8614            OUT013   \n",
              "\n",
              "   Outlet_Establishment_Year Outlet_Size Outlet_Location_Type  \\\n",
              "0                       1999      Medium               Tier 1   \n",
              "1                       2009      Medium               Tier 3   \n",
              "2                       1999      Medium               Tier 1   \n",
              "3                       1998         NaN               Tier 3   \n",
              "4                       1987        High               Tier 3   \n",
              "\n",
              "         Outlet_Type  Item_Outlet_Sales  \n",
              "0  Supermarket Type1          3735.1380  \n",
              "1  Supermarket Type2           443.4228  \n",
              "2  Supermarket Type1          2097.2700  \n",
              "3      Grocery Store           732.3800  \n",
              "4  Supermarket Type1           994.7052  "
            ],
            "text/html": [
              "\n",
              "  <div id=\"df-c460ae82-46f2-4eae-9eb7-5f3f3bbcf975\">\n",
              "    <div class=\"colab-df-container\">\n",
              "      <div>\n",
              "<style scoped>\n",
              "    .dataframe tbody tr th:only-of-type {\n",
              "        vertical-align: middle;\n",
              "    }\n",
              "\n",
              "    .dataframe tbody tr th {\n",
              "        vertical-align: top;\n",
              "    }\n",
              "\n",
              "    .dataframe thead th {\n",
              "        text-align: right;\n",
              "    }\n",
              "</style>\n",
              "<table border=\"1\" class=\"dataframe\">\n",
              "  <thead>\n",
              "    <tr style=\"text-align: right;\">\n",
              "      <th></th>\n",
              "      <th>Item_Identifier</th>\n",
              "      <th>Item_Weight</th>\n",
              "      <th>Item_Fat_Content</th>\n",
              "      <th>Item_Visibility</th>\n",
              "      <th>Item_Type</th>\n",
              "      <th>Item_MRP</th>\n",
              "      <th>Outlet_Identifier</th>\n",
              "      <th>Outlet_Establishment_Year</th>\n",
              "      <th>Outlet_Size</th>\n",
              "      <th>Outlet_Location_Type</th>\n",
              "      <th>Outlet_Type</th>\n",
              "      <th>Item_Outlet_Sales</th>\n",
              "    </tr>\n",
              "  </thead>\n",
              "  <tbody>\n",
              "    <tr>\n",
              "      <th>0</th>\n",
              "      <td>FDA15</td>\n",
              "      <td>9.30</td>\n",
              "      <td>Low Fat</td>\n",
              "      <td>0.016047</td>\n",
              "      <td>Dairy</td>\n",
              "      <td>249.8092</td>\n",
              "      <td>OUT049</td>\n",
              "      <td>1999</td>\n",
              "      <td>Medium</td>\n",
              "      <td>Tier 1</td>\n",
              "      <td>Supermarket Type1</td>\n",
              "      <td>3735.1380</td>\n",
              "    </tr>\n",
              "    <tr>\n",
              "      <th>1</th>\n",
              "      <td>DRC01</td>\n",
              "      <td>5.92</td>\n",
              "      <td>Regular</td>\n",
              "      <td>0.019278</td>\n",
              "      <td>Soft Drinks</td>\n",
              "      <td>48.2692</td>\n",
              "      <td>OUT018</td>\n",
              "      <td>2009</td>\n",
              "      <td>Medium</td>\n",
              "      <td>Tier 3</td>\n",
              "      <td>Supermarket Type2</td>\n",
              "      <td>443.4228</td>\n",
              "    </tr>\n",
              "    <tr>\n",
              "      <th>2</th>\n",
              "      <td>FDN15</td>\n",
              "      <td>17.50</td>\n",
              "      <td>Low Fat</td>\n",
              "      <td>0.016760</td>\n",
              "      <td>Meat</td>\n",
              "      <td>141.6180</td>\n",
              "      <td>OUT049</td>\n",
              "      <td>1999</td>\n",
              "      <td>Medium</td>\n",
              "      <td>Tier 1</td>\n",
              "      <td>Supermarket Type1</td>\n",
              "      <td>2097.2700</td>\n",
              "    </tr>\n",
              "    <tr>\n",
              "      <th>3</th>\n",
              "      <td>FDX07</td>\n",
              "      <td>19.20</td>\n",
              "      <td>Regular</td>\n",
              "      <td>0.000000</td>\n",
              "      <td>Fruits and Vegetables</td>\n",
              "      <td>182.0950</td>\n",
              "      <td>OUT010</td>\n",
              "      <td>1998</td>\n",
              "      <td>NaN</td>\n",
              "      <td>Tier 3</td>\n",
              "      <td>Grocery Store</td>\n",
              "      <td>732.3800</td>\n",
              "    </tr>\n",
              "    <tr>\n",
              "      <th>4</th>\n",
              "      <td>NCD19</td>\n",
              "      <td>8.93</td>\n",
              "      <td>Low Fat</td>\n",
              "      <td>0.000000</td>\n",
              "      <td>Household</td>\n",
              "      <td>53.8614</td>\n",
              "      <td>OUT013</td>\n",
              "      <td>1987</td>\n",
              "      <td>High</td>\n",
              "      <td>Tier 3</td>\n",
              "      <td>Supermarket Type1</td>\n",
              "      <td>994.7052</td>\n",
              "    </tr>\n",
              "  </tbody>\n",
              "</table>\n",
              "</div>\n",
              "      <button class=\"colab-df-convert\" onclick=\"convertToInteractive('df-c460ae82-46f2-4eae-9eb7-5f3f3bbcf975')\"\n",
              "              title=\"Convert this dataframe to an interactive table.\"\n",
              "              style=\"display:none;\">\n",
              "        \n",
              "  <svg xmlns=\"http://www.w3.org/2000/svg\" height=\"24px\"viewBox=\"0 0 24 24\"\n",
              "       width=\"24px\">\n",
              "    <path d=\"M0 0h24v24H0V0z\" fill=\"none\"/>\n",
              "    <path d=\"M18.56 5.44l.94 2.06.94-2.06 2.06-.94-2.06-.94-.94-2.06-.94 2.06-2.06.94zm-11 1L8.5 8.5l.94-2.06 2.06-.94-2.06-.94L8.5 2.5l-.94 2.06-2.06.94zm10 10l.94 2.06.94-2.06 2.06-.94-2.06-.94-.94-2.06-.94 2.06-2.06.94z\"/><path d=\"M17.41 7.96l-1.37-1.37c-.4-.4-.92-.59-1.43-.59-.52 0-1.04.2-1.43.59L10.3 9.45l-7.72 7.72c-.78.78-.78 2.05 0 2.83L4 21.41c.39.39.9.59 1.41.59.51 0 1.02-.2 1.41-.59l7.78-7.78 2.81-2.81c.8-.78.8-2.07 0-2.86zM5.41 20L4 18.59l7.72-7.72 1.47 1.35L5.41 20z\"/>\n",
              "  </svg>\n",
              "      </button>\n",
              "      \n",
              "  <style>\n",
              "    .colab-df-container {\n",
              "      display:flex;\n",
              "      flex-wrap:wrap;\n",
              "      gap: 12px;\n",
              "    }\n",
              "\n",
              "    .colab-df-convert {\n",
              "      background-color: #E8F0FE;\n",
              "      border: none;\n",
              "      border-radius: 50%;\n",
              "      cursor: pointer;\n",
              "      display: none;\n",
              "      fill: #1967D2;\n",
              "      height: 32px;\n",
              "      padding: 0 0 0 0;\n",
              "      width: 32px;\n",
              "    }\n",
              "\n",
              "    .colab-df-convert:hover {\n",
              "      background-color: #E2EBFA;\n",
              "      box-shadow: 0px 1px 2px rgba(60, 64, 67, 0.3), 0px 1px 3px 1px rgba(60, 64, 67, 0.15);\n",
              "      fill: #174EA6;\n",
              "    }\n",
              "\n",
              "    [theme=dark] .colab-df-convert {\n",
              "      background-color: #3B4455;\n",
              "      fill: #D2E3FC;\n",
              "    }\n",
              "\n",
              "    [theme=dark] .colab-df-convert:hover {\n",
              "      background-color: #434B5C;\n",
              "      box-shadow: 0px 1px 3px 1px rgba(0, 0, 0, 0.15);\n",
              "      filter: drop-shadow(0px 1px 2px rgba(0, 0, 0, 0.3));\n",
              "      fill: #FFFFFF;\n",
              "    }\n",
              "  </style>\n",
              "\n",
              "      <script>\n",
              "        const buttonEl =\n",
              "          document.querySelector('#df-c460ae82-46f2-4eae-9eb7-5f3f3bbcf975 button.colab-df-convert');\n",
              "        buttonEl.style.display =\n",
              "          google.colab.kernel.accessAllowed ? 'block' : 'none';\n",
              "\n",
              "        async function convertToInteractive(key) {\n",
              "          const element = document.querySelector('#df-c460ae82-46f2-4eae-9eb7-5f3f3bbcf975');\n",
              "          const dataTable =\n",
              "            await google.colab.kernel.invokeFunction('convertToInteractive',\n",
              "                                                     [key], {});\n",
              "          if (!dataTable) return;\n",
              "\n",
              "          const docLinkHtml = 'Like what you see? Visit the ' +\n",
              "            '<a target=\"_blank\" href=https://colab.research.google.com/notebooks/data_table.ipynb>data table notebook</a>'\n",
              "            + ' to learn more about interactive tables.';\n",
              "          element.innerHTML = '';\n",
              "          dataTable['output_type'] = 'display_data';\n",
              "          await google.colab.output.renderOutput(dataTable, element);\n",
              "          const docLink = document.createElement('div');\n",
              "          docLink.innerHTML = docLinkHtml;\n",
              "          element.appendChild(docLink);\n",
              "        }\n",
              "      </script>\n",
              "    </div>\n",
              "  </div>\n",
              "  "
            ]
          },
          "metadata": {},
          "execution_count": 29
        }
      ]
    },
    {
      "cell_type": "code",
      "source": [
        "# Check columns, rows, data types, and missing values\n",
        "df.info()"
      ],
      "metadata": {
        "id": "rottjh86gRou",
        "outputId": "5efc56ec-7a1b-4bbf-f875-5a4647ba9da1",
        "colab": {
          "base_uri": "https://localhost:8080/"
        }
      },
      "execution_count": 30,
      "outputs": [
        {
          "output_type": "stream",
          "name": "stdout",
          "text": [
            "<class 'pandas.core.frame.DataFrame'>\n",
            "RangeIndex: 8523 entries, 0 to 8522\n",
            "Data columns (total 12 columns):\n",
            " #   Column                     Non-Null Count  Dtype  \n",
            "---  ------                     --------------  -----  \n",
            " 0   Item_Identifier            8523 non-null   object \n",
            " 1   Item_Weight                7060 non-null   float64\n",
            " 2   Item_Fat_Content           8523 non-null   object \n",
            " 3   Item_Visibility            8523 non-null   float64\n",
            " 4   Item_Type                  8523 non-null   object \n",
            " 5   Item_MRP                   8523 non-null   float64\n",
            " 6   Outlet_Identifier          8523 non-null   object \n",
            " 7   Outlet_Establishment_Year  8523 non-null   int64  \n",
            " 8   Outlet_Size                6113 non-null   object \n",
            " 9   Outlet_Location_Type       8523 non-null   object \n",
            " 10  Outlet_Type                8523 non-null   object \n",
            " 11  Item_Outlet_Sales          8523 non-null   float64\n",
            "dtypes: float64(4), int64(1), object(7)\n",
            "memory usage: 799.2+ KB\n"
          ]
        }
      ]
    },
    {
      "cell_type": "markdown",
      "source": [
        "## Data Cleaning"
      ],
      "metadata": {
        "id": "xkJ2m6LZw4MC"
      }
    },
    {
      "cell_type": "code",
      "source": [
        "# 1) How many rows and columns?\n",
        "df.shape"
      ],
      "metadata": {
        "id": "8OEXGa4UgW71",
        "outputId": "4f3dc8e7-ff23-407b-a2a8-eb8f1fd0b727",
        "colab": {
          "base_uri": "https://localhost:8080/"
        }
      },
      "execution_count": 5,
      "outputs": [
        {
          "output_type": "execute_result",
          "data": {
            "text/plain": [
              "(8523, 12)"
            ]
          },
          "metadata": {},
          "execution_count": 5
        }
      ]
    },
    {
      "cell_type": "code",
      "source": [
        "# 2) What are the datatypes of each variable?\n",
        "df.dtypes"
      ],
      "metadata": {
        "id": "Q_UoBvtfg6y4",
        "outputId": "4e1fef0c-307e-4c60-888b-8a52cf56af00",
        "colab": {
          "base_uri": "https://localhost:8080/"
        }
      },
      "execution_count": 6,
      "outputs": [
        {
          "output_type": "execute_result",
          "data": {
            "text/plain": [
              "Item_Identifier               object\n",
              "Item_Weight                  float64\n",
              "Item_Fat_Content              object\n",
              "Item_Visibility              float64\n",
              "Item_Type                     object\n",
              "Item_MRP                     float64\n",
              "Outlet_Identifier             object\n",
              "Outlet_Establishment_Year      int64\n",
              "Outlet_Size                   object\n",
              "Outlet_Location_Type          object\n",
              "Outlet_Type                   object\n",
              "Item_Outlet_Sales            float64\n",
              "dtype: object"
            ]
          },
          "metadata": {},
          "execution_count": 6
        }
      ]
    },
    {
      "cell_type": "code",
      "source": [
        "# 3) Are there duplicates? If so, drop any duplicates.\n",
        "df.duplicated().sum()"
      ],
      "metadata": {
        "id": "A09bycwziQEX",
        "outputId": "ccef47fb-9366-4982-9b89-7f8688c43002",
        "colab": {
          "base_uri": "https://localhost:8080/"
        }
      },
      "execution_count": 7,
      "outputs": [
        {
          "output_type": "execute_result",
          "data": {
            "text/plain": [
              "0"
            ]
          },
          "metadata": {},
          "execution_count": 7
        }
      ]
    },
    {
      "cell_type": "code",
      "source": [
        "# 4) Identify missing values.\n",
        "df.isna().sum()"
      ],
      "metadata": {
        "id": "EfOkLZqliY_v",
        "outputId": "0d8f3d90-f20e-4dea-e75b-b7780d5901d0",
        "colab": {
          "base_uri": "https://localhost:8080/"
        }
      },
      "execution_count": 8,
      "outputs": [
        {
          "output_type": "execute_result",
          "data": {
            "text/plain": [
              "Item_Identifier                 0\n",
              "Item_Weight                  1463\n",
              "Item_Fat_Content                0\n",
              "Item_Visibility                 0\n",
              "Item_Type                       0\n",
              "Item_MRP                        0\n",
              "Outlet_Identifier               0\n",
              "Outlet_Establishment_Year       0\n",
              "Outlet_Size                  2410\n",
              "Outlet_Location_Type            0\n",
              "Outlet_Type                     0\n",
              "Item_Outlet_Sales               0\n",
              "dtype: int64"
            ]
          },
          "metadata": {},
          "execution_count": 8
        }
      ]
    },
    {
      "cell_type": "code",
      "source": [
        "# Identifying percentage of missing data\n",
        "df.isna().sum() / len(df) * 100"
      ],
      "metadata": {
        "colab": {
          "base_uri": "https://localhost:8080/"
        },
        "id": "e5qA5kGWFG8p",
        "outputId": "8764e0a8-3bf1-4bc7-9ab1-5b0252c6b49b"
      },
      "execution_count": 9,
      "outputs": [
        {
          "output_type": "execute_result",
          "data": {
            "text/plain": [
              "Item_Identifier               0.000000\n",
              "Item_Weight                  17.165317\n",
              "Item_Fat_Content              0.000000\n",
              "Item_Visibility               0.000000\n",
              "Item_Type                     0.000000\n",
              "Item_MRP                      0.000000\n",
              "Outlet_Identifier             0.000000\n",
              "Outlet_Establishment_Year     0.000000\n",
              "Outlet_Size                  28.276428\n",
              "Outlet_Location_Type          0.000000\n",
              "Outlet_Type                   0.000000\n",
              "Item_Outlet_Sales             0.000000\n",
              "dtype: float64"
            ]
          },
          "metadata": {},
          "execution_count": 9
        }
      ]
    },
    {
      "cell_type": "code",
      "source": [
        "# 5) Decide on how to address the missing values and do it! (This requires your judgement, so explain your choice). \n",
        "# Explanation: Obtain the value that is likely to be closest to the correct value given the data provided (Numerical Column)\n",
        "median_i_weight = df['Item_Weight'].median()\n",
        "df['Item_Weight'].fillna(median_i_weight, inplace = True)"
      ],
      "metadata": {
        "id": "_0SmQHrli8xY"
      },
      "execution_count": 10,
      "outputs": []
    },
    {
      "cell_type": "code",
      "source": [
        "# Explanation: Replace missing values with the value 'Missing' (Categorical Column)\n",
        "df['Outlet_Size'].fillna('Missing', inplace = True)"
      ],
      "metadata": {
        "id": "_Kz2BQ7oMvRQ"
      },
      "execution_count": 11,
      "outputs": []
    },
    {
      "cell_type": "code",
      "source": [
        "# 6) Confirm that there are no missing values after addressing them.\n",
        "df.isna().sum()"
      ],
      "metadata": {
        "id": "iO72Pvnt0UMN",
        "colab": {
          "base_uri": "https://localhost:8080/"
        },
        "outputId": "041baab2-b2d7-4e04-e4ed-6bf18cea6e6a"
      },
      "execution_count": 12,
      "outputs": [
        {
          "output_type": "execute_result",
          "data": {
            "text/plain": [
              "Item_Identifier              0\n",
              "Item_Weight                  0\n",
              "Item_Fat_Content             0\n",
              "Item_Visibility              0\n",
              "Item_Type                    0\n",
              "Item_MRP                     0\n",
              "Outlet_Identifier            0\n",
              "Outlet_Establishment_Year    0\n",
              "Outlet_Size                  0\n",
              "Outlet_Location_Type         0\n",
              "Outlet_Type                  0\n",
              "Item_Outlet_Sales            0\n",
              "dtype: int64"
            ]
          },
          "metadata": {},
          "execution_count": 12
        }
      ]
    },
    {
      "cell_type": "code",
      "source": [
        "# 7) Finding any inconsistent categories of data\n",
        "df['Outlet_Size'].value_counts()"
      ],
      "metadata": {
        "id": "evD-5giZ0UgV",
        "colab": {
          "base_uri": "https://localhost:8080/"
        },
        "outputId": "d0d400bf-c063-4b5f-c78c-cc2e34ffb742"
      },
      "execution_count": 13,
      "outputs": [
        {
          "output_type": "execute_result",
          "data": {
            "text/plain": [
              "Medium     2793\n",
              "Missing    2410\n",
              "Small      2388\n",
              "High        932\n",
              "Name: Outlet_Size, dtype: int64"
            ]
          },
          "metadata": {},
          "execution_count": 13
        }
      ]
    },
    {
      "cell_type": "code",
      "source": [
        "# 8) For any numerical columns, obtain the summary statistics of each (min, max, mean).\n",
        "df.describe().round(2)"
      ],
      "metadata": {
        "id": "pTICGH5C0UlM",
        "colab": {
          "base_uri": "https://localhost:8080/",
          "height": 300
        },
        "outputId": "05433b16-ddae-41a2-b819-b12f18e37158"
      },
      "execution_count": 15,
      "outputs": [
        {
          "output_type": "execute_result",
          "data": {
            "text/plain": [
              "       Item_Weight  Item_Visibility  Item_MRP  Outlet_Establishment_Year  \\\n",
              "count      8523.00          8523.00   8523.00                    8523.00   \n",
              "mean         12.81             0.07    140.99                    1997.83   \n",
              "std           4.23             0.05     62.28                       8.37   \n",
              "min           4.56             0.00     31.29                    1985.00   \n",
              "25%           9.31             0.03     93.83                    1987.00   \n",
              "50%          12.60             0.05    143.01                    1999.00   \n",
              "75%          16.00             0.09    185.64                    2004.00   \n",
              "max          21.35             0.33    266.89                    2009.00   \n",
              "\n",
              "       Item_Outlet_Sales  \n",
              "count            8523.00  \n",
              "mean             2181.29  \n",
              "std              1706.50  \n",
              "min                33.29  \n",
              "25%               834.25  \n",
              "50%              1794.33  \n",
              "75%              3101.30  \n",
              "max             13086.96  "
            ],
            "text/html": [
              "\n",
              "  <div id=\"df-5d749f69-1c62-4cfc-bba1-d26004a7a658\">\n",
              "    <div class=\"colab-df-container\">\n",
              "      <div>\n",
              "<style scoped>\n",
              "    .dataframe tbody tr th:only-of-type {\n",
              "        vertical-align: middle;\n",
              "    }\n",
              "\n",
              "    .dataframe tbody tr th {\n",
              "        vertical-align: top;\n",
              "    }\n",
              "\n",
              "    .dataframe thead th {\n",
              "        text-align: right;\n",
              "    }\n",
              "</style>\n",
              "<table border=\"1\" class=\"dataframe\">\n",
              "  <thead>\n",
              "    <tr style=\"text-align: right;\">\n",
              "      <th></th>\n",
              "      <th>Item_Weight</th>\n",
              "      <th>Item_Visibility</th>\n",
              "      <th>Item_MRP</th>\n",
              "      <th>Outlet_Establishment_Year</th>\n",
              "      <th>Item_Outlet_Sales</th>\n",
              "    </tr>\n",
              "  </thead>\n",
              "  <tbody>\n",
              "    <tr>\n",
              "      <th>count</th>\n",
              "      <td>8523.00</td>\n",
              "      <td>8523.00</td>\n",
              "      <td>8523.00</td>\n",
              "      <td>8523.00</td>\n",
              "      <td>8523.00</td>\n",
              "    </tr>\n",
              "    <tr>\n",
              "      <th>mean</th>\n",
              "      <td>12.81</td>\n",
              "      <td>0.07</td>\n",
              "      <td>140.99</td>\n",
              "      <td>1997.83</td>\n",
              "      <td>2181.29</td>\n",
              "    </tr>\n",
              "    <tr>\n",
              "      <th>std</th>\n",
              "      <td>4.23</td>\n",
              "      <td>0.05</td>\n",
              "      <td>62.28</td>\n",
              "      <td>8.37</td>\n",
              "      <td>1706.50</td>\n",
              "    </tr>\n",
              "    <tr>\n",
              "      <th>min</th>\n",
              "      <td>4.56</td>\n",
              "      <td>0.00</td>\n",
              "      <td>31.29</td>\n",
              "      <td>1985.00</td>\n",
              "      <td>33.29</td>\n",
              "    </tr>\n",
              "    <tr>\n",
              "      <th>25%</th>\n",
              "      <td>9.31</td>\n",
              "      <td>0.03</td>\n",
              "      <td>93.83</td>\n",
              "      <td>1987.00</td>\n",
              "      <td>834.25</td>\n",
              "    </tr>\n",
              "    <tr>\n",
              "      <th>50%</th>\n",
              "      <td>12.60</td>\n",
              "      <td>0.05</td>\n",
              "      <td>143.01</td>\n",
              "      <td>1999.00</td>\n",
              "      <td>1794.33</td>\n",
              "    </tr>\n",
              "    <tr>\n",
              "      <th>75%</th>\n",
              "      <td>16.00</td>\n",
              "      <td>0.09</td>\n",
              "      <td>185.64</td>\n",
              "      <td>2004.00</td>\n",
              "      <td>3101.30</td>\n",
              "    </tr>\n",
              "    <tr>\n",
              "      <th>max</th>\n",
              "      <td>21.35</td>\n",
              "      <td>0.33</td>\n",
              "      <td>266.89</td>\n",
              "      <td>2009.00</td>\n",
              "      <td>13086.96</td>\n",
              "    </tr>\n",
              "  </tbody>\n",
              "</table>\n",
              "</div>\n",
              "      <button class=\"colab-df-convert\" onclick=\"convertToInteractive('df-5d749f69-1c62-4cfc-bba1-d26004a7a658')\"\n",
              "              title=\"Convert this dataframe to an interactive table.\"\n",
              "              style=\"display:none;\">\n",
              "        \n",
              "  <svg xmlns=\"http://www.w3.org/2000/svg\" height=\"24px\"viewBox=\"0 0 24 24\"\n",
              "       width=\"24px\">\n",
              "    <path d=\"M0 0h24v24H0V0z\" fill=\"none\"/>\n",
              "    <path d=\"M18.56 5.44l.94 2.06.94-2.06 2.06-.94-2.06-.94-.94-2.06-.94 2.06-2.06.94zm-11 1L8.5 8.5l.94-2.06 2.06-.94-2.06-.94L8.5 2.5l-.94 2.06-2.06.94zm10 10l.94 2.06.94-2.06 2.06-.94-2.06-.94-.94-2.06-.94 2.06-2.06.94z\"/><path d=\"M17.41 7.96l-1.37-1.37c-.4-.4-.92-.59-1.43-.59-.52 0-1.04.2-1.43.59L10.3 9.45l-7.72 7.72c-.78.78-.78 2.05 0 2.83L4 21.41c.39.39.9.59 1.41.59.51 0 1.02-.2 1.41-.59l7.78-7.78 2.81-2.81c.8-.78.8-2.07 0-2.86zM5.41 20L4 18.59l7.72-7.72 1.47 1.35L5.41 20z\"/>\n",
              "  </svg>\n",
              "      </button>\n",
              "      \n",
              "  <style>\n",
              "    .colab-df-container {\n",
              "      display:flex;\n",
              "      flex-wrap:wrap;\n",
              "      gap: 12px;\n",
              "    }\n",
              "\n",
              "    .colab-df-convert {\n",
              "      background-color: #E8F0FE;\n",
              "      border: none;\n",
              "      border-radius: 50%;\n",
              "      cursor: pointer;\n",
              "      display: none;\n",
              "      fill: #1967D2;\n",
              "      height: 32px;\n",
              "      padding: 0 0 0 0;\n",
              "      width: 32px;\n",
              "    }\n",
              "\n",
              "    .colab-df-convert:hover {\n",
              "      background-color: #E2EBFA;\n",
              "      box-shadow: 0px 1px 2px rgba(60, 64, 67, 0.3), 0px 1px 3px 1px rgba(60, 64, 67, 0.15);\n",
              "      fill: #174EA6;\n",
              "    }\n",
              "\n",
              "    [theme=dark] .colab-df-convert {\n",
              "      background-color: #3B4455;\n",
              "      fill: #D2E3FC;\n",
              "    }\n",
              "\n",
              "    [theme=dark] .colab-df-convert:hover {\n",
              "      background-color: #434B5C;\n",
              "      box-shadow: 0px 1px 3px 1px rgba(0, 0, 0, 0.15);\n",
              "      filter: drop-shadow(0px 1px 2px rgba(0, 0, 0, 0.3));\n",
              "      fill: #FFFFFF;\n",
              "    }\n",
              "  </style>\n",
              "\n",
              "      <script>\n",
              "        const buttonEl =\n",
              "          document.querySelector('#df-5d749f69-1c62-4cfc-bba1-d26004a7a658 button.colab-df-convert');\n",
              "        buttonEl.style.display =\n",
              "          google.colab.kernel.accessAllowed ? 'block' : 'none';\n",
              "\n",
              "        async function convertToInteractive(key) {\n",
              "          const element = document.querySelector('#df-5d749f69-1c62-4cfc-bba1-d26004a7a658');\n",
              "          const dataTable =\n",
              "            await google.colab.kernel.invokeFunction('convertToInteractive',\n",
              "                                                     [key], {});\n",
              "          if (!dataTable) return;\n",
              "\n",
              "          const docLinkHtml = 'Like what you see? Visit the ' +\n",
              "            '<a target=\"_blank\" href=https://colab.research.google.com/notebooks/data_table.ipynb>data table notebook</a>'\n",
              "            + ' to learn more about interactive tables.';\n",
              "          element.innerHTML = '';\n",
              "          dataTable['output_type'] = 'display_data';\n",
              "          await google.colab.output.renderOutput(dataTable, element);\n",
              "          const docLink = document.createElement('div');\n",
              "          docLink.innerHTML = docLinkHtml;\n",
              "          element.appendChild(docLink);\n",
              "        }\n",
              "      </script>\n",
              "    </div>\n",
              "  </div>\n",
              "  "
            ]
          },
          "metadata": {},
          "execution_count": 15
        }
      ]
    },
    {
      "cell_type": "code",
      "source": [
        "# Summary statistics of each (min, max, mean)\n",
        "stats =  df.describe()\n",
        "stats.loc[['mean','min','max']]"
      ],
      "metadata": {
        "colab": {
          "base_uri": "https://localhost:8080/",
          "height": 143
        },
        "id": "e4VUWkJTTazn",
        "outputId": "8755b5a8-45d8-457e-d7af-744dd70505a0"
      },
      "execution_count": 16,
      "outputs": [
        {
          "output_type": "execute_result",
          "data": {
            "text/plain": [
              "      Item_Weight  Item_Visibility    Item_MRP  Outlet_Establishment_Year  \\\n",
              "mean     12.81342         0.066132  140.992782                1997.831867   \n",
              "min       4.55500         0.000000   31.290000                1985.000000   \n",
              "max      21.35000         0.328391  266.888400                2009.000000   \n",
              "\n",
              "      Item_Outlet_Sales  \n",
              "mean        2181.288914  \n",
              "min           33.290000  \n",
              "max        13086.964800  "
            ],
            "text/html": [
              "\n",
              "  <div id=\"df-922b732a-e12d-4680-bb7c-d80a89b1dc66\">\n",
              "    <div class=\"colab-df-container\">\n",
              "      <div>\n",
              "<style scoped>\n",
              "    .dataframe tbody tr th:only-of-type {\n",
              "        vertical-align: middle;\n",
              "    }\n",
              "\n",
              "    .dataframe tbody tr th {\n",
              "        vertical-align: top;\n",
              "    }\n",
              "\n",
              "    .dataframe thead th {\n",
              "        text-align: right;\n",
              "    }\n",
              "</style>\n",
              "<table border=\"1\" class=\"dataframe\">\n",
              "  <thead>\n",
              "    <tr style=\"text-align: right;\">\n",
              "      <th></th>\n",
              "      <th>Item_Weight</th>\n",
              "      <th>Item_Visibility</th>\n",
              "      <th>Item_MRP</th>\n",
              "      <th>Outlet_Establishment_Year</th>\n",
              "      <th>Item_Outlet_Sales</th>\n",
              "    </tr>\n",
              "  </thead>\n",
              "  <tbody>\n",
              "    <tr>\n",
              "      <th>mean</th>\n",
              "      <td>12.81342</td>\n",
              "      <td>0.066132</td>\n",
              "      <td>140.992782</td>\n",
              "      <td>1997.831867</td>\n",
              "      <td>2181.288914</td>\n",
              "    </tr>\n",
              "    <tr>\n",
              "      <th>min</th>\n",
              "      <td>4.55500</td>\n",
              "      <td>0.000000</td>\n",
              "      <td>31.290000</td>\n",
              "      <td>1985.000000</td>\n",
              "      <td>33.290000</td>\n",
              "    </tr>\n",
              "    <tr>\n",
              "      <th>max</th>\n",
              "      <td>21.35000</td>\n",
              "      <td>0.328391</td>\n",
              "      <td>266.888400</td>\n",
              "      <td>2009.000000</td>\n",
              "      <td>13086.964800</td>\n",
              "    </tr>\n",
              "  </tbody>\n",
              "</table>\n",
              "</div>\n",
              "      <button class=\"colab-df-convert\" onclick=\"convertToInteractive('df-922b732a-e12d-4680-bb7c-d80a89b1dc66')\"\n",
              "              title=\"Convert this dataframe to an interactive table.\"\n",
              "              style=\"display:none;\">\n",
              "        \n",
              "  <svg xmlns=\"http://www.w3.org/2000/svg\" height=\"24px\"viewBox=\"0 0 24 24\"\n",
              "       width=\"24px\">\n",
              "    <path d=\"M0 0h24v24H0V0z\" fill=\"none\"/>\n",
              "    <path d=\"M18.56 5.44l.94 2.06.94-2.06 2.06-.94-2.06-.94-.94-2.06-.94 2.06-2.06.94zm-11 1L8.5 8.5l.94-2.06 2.06-.94-2.06-.94L8.5 2.5l-.94 2.06-2.06.94zm10 10l.94 2.06.94-2.06 2.06-.94-2.06-.94-.94-2.06-.94 2.06-2.06.94z\"/><path d=\"M17.41 7.96l-1.37-1.37c-.4-.4-.92-.59-1.43-.59-.52 0-1.04.2-1.43.59L10.3 9.45l-7.72 7.72c-.78.78-.78 2.05 0 2.83L4 21.41c.39.39.9.59 1.41.59.51 0 1.02-.2 1.41-.59l7.78-7.78 2.81-2.81c.8-.78.8-2.07 0-2.86zM5.41 20L4 18.59l7.72-7.72 1.47 1.35L5.41 20z\"/>\n",
              "  </svg>\n",
              "      </button>\n",
              "      \n",
              "  <style>\n",
              "    .colab-df-container {\n",
              "      display:flex;\n",
              "      flex-wrap:wrap;\n",
              "      gap: 12px;\n",
              "    }\n",
              "\n",
              "    .colab-df-convert {\n",
              "      background-color: #E8F0FE;\n",
              "      border: none;\n",
              "      border-radius: 50%;\n",
              "      cursor: pointer;\n",
              "      display: none;\n",
              "      fill: #1967D2;\n",
              "      height: 32px;\n",
              "      padding: 0 0 0 0;\n",
              "      width: 32px;\n",
              "    }\n",
              "\n",
              "    .colab-df-convert:hover {\n",
              "      background-color: #E2EBFA;\n",
              "      box-shadow: 0px 1px 2px rgba(60, 64, 67, 0.3), 0px 1px 3px 1px rgba(60, 64, 67, 0.15);\n",
              "      fill: #174EA6;\n",
              "    }\n",
              "\n",
              "    [theme=dark] .colab-df-convert {\n",
              "      background-color: #3B4455;\n",
              "      fill: #D2E3FC;\n",
              "    }\n",
              "\n",
              "    [theme=dark] .colab-df-convert:hover {\n",
              "      background-color: #434B5C;\n",
              "      box-shadow: 0px 1px 3px 1px rgba(0, 0, 0, 0.15);\n",
              "      filter: drop-shadow(0px 1px 2px rgba(0, 0, 0, 0.3));\n",
              "      fill: #FFFFFF;\n",
              "    }\n",
              "  </style>\n",
              "\n",
              "      <script>\n",
              "        const buttonEl =\n",
              "          document.querySelector('#df-922b732a-e12d-4680-bb7c-d80a89b1dc66 button.colab-df-convert');\n",
              "        buttonEl.style.display =\n",
              "          google.colab.kernel.accessAllowed ? 'block' : 'none';\n",
              "\n",
              "        async function convertToInteractive(key) {\n",
              "          const element = document.querySelector('#df-922b732a-e12d-4680-bb7c-d80a89b1dc66');\n",
              "          const dataTable =\n",
              "            await google.colab.kernel.invokeFunction('convertToInteractive',\n",
              "                                                     [key], {});\n",
              "          if (!dataTable) return;\n",
              "\n",
              "          const docLinkHtml = 'Like what you see? Visit the ' +\n",
              "            '<a target=\"_blank\" href=https://colab.research.google.com/notebooks/data_table.ipynb>data table notebook</a>'\n",
              "            + ' to learn more about interactive tables.';\n",
              "          element.innerHTML = '';\n",
              "          dataTable['output_type'] = 'display_data';\n",
              "          await google.colab.output.renderOutput(dataTable, element);\n",
              "          const docLink = document.createElement('div');\n",
              "          docLink.innerHTML = docLinkHtml;\n",
              "          element.appendChild(docLink);\n",
              "        }\n",
              "      </script>\n",
              "    </div>\n",
              "  </div>\n",
              "  "
            ]
          },
          "metadata": {},
          "execution_count": 16
        }
      ]
    },
    {
      "cell_type": "markdown",
      "source": [
        "## Exploratory Visuals\n"
      ],
      "metadata": {
        "id": "iamQLEO3T4WP"
      }
    },
    {
      "cell_type": "code",
      "source": [
        "# Histogram to view the distributions of various features in your dataset\n",
        "x1 = df['Item_Outlet_Sales'].hist(bins = 20, edgecolor = 'black')\n",
        "x1.tick_params(axis='x', rotation = 45)\n",
        "x1.ticklabel_format(style='plain')\n",
        "x1.set_title('Distribution of Item Outlet Sales')\n",
        "x1.set_xlabel('Item Outlet Sales')\n",
        "x1.set_ylabel('Quantity')"
      ],
      "metadata": {
        "id": "9z8gunLbHqRD",
        "colab": {
          "base_uri": "https://localhost:8080/",
          "height": 333
        },
        "outputId": "e6b43f84-59cb-49d7-957c-2c71f97358f5"
      },
      "execution_count": 17,
      "outputs": [
        {
          "output_type": "execute_result",
          "data": {
            "text/plain": [
              "Text(0, 0.5, 'Quantity')"
            ]
          },
          "metadata": {},
          "execution_count": 17
        },
        {
          "output_type": "display_data",
          "data": {
            "text/plain": [
              "<Figure size 432x288 with 1 Axes>"
            ],
            "image/png": "[encoded data removed]"
          },
          "metadata": {
            "needs_background": "light"
          }
        }
      ]
    },
    {
      "cell_type": "code",
      "source": [
        "statistical_sum = df.boxplot(column = 'Item_Outlet_Sales', by = 'Item_Type', figsize=(26,10))"
      ],
      "metadata": {
        "colab": {
          "base_uri": "https://localhost:8080/",
          "height": 660
        },
        "id": "1Efk4PA_NxkR",
        "outputId": "944bff06-f798-422f-9d06-d9f481189522"
      },
      "execution_count": 26,
      "outputs": [
        {
          "output_type": "display_data",
          "data": {
            "text/plain": [
              "<Figure size 1872x720 with 1 Axes>"
            ],
            "image/png": "[encoded data removed]"
          },
          "metadata": {
            "needs_background": "light"
          }
        }
      ]
    },
    {
      "cell_type": "code",
      "source": [
        "corr = df.corr()\n",
        "sns.heatmap(corr, cmap = 'Purples', annot = True)"
      ],
      "metadata": {
        "colab": {
          "base_uri": "https://localhost:8080/",
          "height": 410
        },
        "id": "7gmR0Rp5PbQh",
        "outputId": "b6229f99-8991-443d-e09b-4e1d098651bc"
      },
      "execution_count": 32,
      "outputs": [
        {
          "output_type": "execute_result",
          "data": {
            "text/plain": [
              "<Axes: >"
            ]
          },
          "metadata": {},
          "execution_count": 32
        },
        {
          "output_type": "display_data",
          "data": {
            "text/plain": [
              "<Figure size 432x288 with 2 Axes>"
            ],
            "image/png": "[encoded data removed]"
          },
          "metadata": {
            "needs_background": "light"
          }
        }
      ]
    },
    {
      "cell_type": "markdown",
      "source": [
        "## Explanatory Visuals"
      ],
      "metadata": {
        "id": "HyCrHAx1Jj0L"
      }
    },
    {
      "cell_type": "code",
      "source": [],
      "metadata": {
        "id": "TlpFhQIJJk2w"
      },
      "execution_count": 17,
      "outputs": []
    }
  ]
}